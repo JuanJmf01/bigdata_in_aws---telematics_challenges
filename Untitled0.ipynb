{
  "nbformat": 4,
  "nbformat_minor": 0,
  "metadata": {
    "colab": {
      "provenance": []
    },
    "kernelspec": {
      "name": "python3",
      "display_name": "Python 3"
    },
    "language_info": {
      "name": "python"
    }
  },
  "cells": [
    {
      "cell_type": "code",
      "execution_count": 1,
      "metadata": {
        "colab": {
          "base_uri": "https://localhost:8080/"
        },
        "id": "J5ATSXz4KKZi",
        "outputId": "ad4ce669-f9b7-48ff-e208-10b84ba69f46"
      },
      "outputs": [
        {
          "output_type": "stream",
          "name": "stdout",
          "text": [
            "Mounted at /content/gdrive\n"
          ]
        }
      ],
      "source": [
        "#configuración en google colab de spark y pyspark\n",
        "from google.colab import drive\n",
        "drive.mount('/content/gdrive')"
      ]
    },
    {
      "cell_type": "code",
      "source": [
        "#instalar java y spark\n",
        "!apt-get install openjdk-11-jdk-headless -qq > /dev/null\n",
        "!wget -q https://downloads.apache.org/spark/spark-3.5.1/spark-3.5.1-bin-hadoop3.tgz\n",
        "!tar xf spark-3.5.1-bin-hadoop3.tgz\n",
        "!pip install -q findspark"
      ],
      "metadata": {
        "id": "NWYiMEVuKnFi"
      },
      "execution_count": 2,
      "outputs": []
    },
    {
      "cell_type": "code",
      "source": [
        "import os\n",
        "os.environ[\"JAVA_HOME\"] = \"/usr/lib/jvm/java-11-openjdk-amd64\"\n",
        "os.environ[\"SPARK_HOME\"] = \"/content/spark-3.5.1-bin-hadoop3\""
      ],
      "metadata": {
        "id": "wPzydY50Ks9S"
      },
      "execution_count": 3,
      "outputs": []
    },
    {
      "cell_type": "code",
      "source": [
        "import findspark\n",
        "findspark.init()\n",
        "from pyspark.sql import SparkSession\n",
        "spark = SparkSession.builder.master(\"local[*]\").getOrCreate()\n",
        "sc = spark.sparkContext"
      ],
      "metadata": {
        "id": "viCBiHJYK25C"
      },
      "execution_count": 4,
      "outputs": []
    },
    {
      "cell_type": "code",
      "source": [
        "spark"
      ],
      "metadata": {
        "colab": {
          "base_uri": "https://localhost:8080/",
          "height": 219
        },
        "id": "Q_vaGFZ4K4Go",
        "outputId": "34055509-6ad3-4f6b-d051-b96fb7a7b52a"
      },
      "execution_count": 5,
      "outputs": [
        {
          "output_type": "execute_result",
          "data": {
            "text/plain": [
              "<pyspark.sql.session.SparkSession at 0x79fc30b1e320>"
            ],
            "text/html": [
              "\n",
              "            <div>\n",
              "                <p><b>SparkSession - in-memory</b></p>\n",
              "                \n",
              "        <div>\n",
              "            <p><b>SparkContext</b></p>\n",
              "\n",
              "            <p><a href=\"http://a1d8f180ba03:4040\">Spark UI</a></p>\n",
              "\n",
              "            <dl>\n",
              "              <dt>Version</dt>\n",
              "                <dd><code>v3.5.1</code></dd>\n",
              "              <dt>Master</dt>\n",
              "                <dd><code>local[*]</code></dd>\n",
              "              <dt>AppName</dt>\n",
              "                <dd><code>pyspark-shell</code></dd>\n",
              "            </dl>\n",
              "        </div>\n",
              "        \n",
              "            </div>\n",
              "        "
            ]
          },
          "metadata": {},
          "execution_count": 5
        }
      ]
    },
    {
      "cell_type": "code",
      "source": [
        "sc"
      ],
      "metadata": {
        "colab": {
          "base_uri": "https://localhost:8080/",
          "height": 196
        },
        "id": "FsWZG6gQK47L",
        "outputId": "fedc5329-0b77-4d1f-9068-c56b84b92903"
      },
      "execution_count": 6,
      "outputs": [
        {
          "output_type": "execute_result",
          "data": {
            "text/plain": [
              "<SparkContext master=local[*] appName=pyspark-shell>"
            ],
            "text/html": [
              "\n",
              "        <div>\n",
              "            <p><b>SparkContext</b></p>\n",
              "\n",
              "            <p><a href=\"http://a1d8f180ba03:4040\">Spark UI</a></p>\n",
              "\n",
              "            <dl>\n",
              "              <dt>Version</dt>\n",
              "                <dd><code>v3.5.1</code></dd>\n",
              "              <dt>Master</dt>\n",
              "                <dd><code>local[*]</code></dd>\n",
              "              <dt>AppName</dt>\n",
              "                <dd><code>pyspark-shell</code></dd>\n",
              "            </dl>\n",
              "        </div>\n",
              "        "
            ]
          },
          "metadata": {},
          "execution_count": 6
        }
      ]
    },
    {
      "cell_type": "code",
      "source": [
        "# Load csv Dataset\n",
        "#df=spark.read.csv('s3://<bucket/dir>/sample_data.csv',inferSchema=True,header=True)\n",
        "df=spark.read.csv('gdrive/MyDrive/Reto7/sample_data.csv',inferSchema=True,header=True)"
      ],
      "metadata": {
        "id": "c6TbjSX-LAeY"
      },
      "execution_count": 7,
      "outputs": []
    },
    {
      "cell_type": "code",
      "source": [
        "#columns of dataframe\n",
        "df.columns"
      ],
      "metadata": {
        "colab": {
          "base_uri": "https://localhost:8080/"
        },
        "id": "zYgTkqk7L_-c",
        "outputId": "2cff2c3a-35d3-4c7e-a2a7-b183f8e66d14"
      },
      "execution_count": 8,
      "outputs": [
        {
          "output_type": "execute_result",
          "data": {
            "text/plain": [
              "['ratings', 'age', 'experience', 'family', 'mobile']"
            ]
          },
          "metadata": {},
          "execution_count": 8
        }
      ]
    },
    {
      "cell_type": "code",
      "source": [
        "#check number of columns\n",
        "len(df.columns)"
      ],
      "metadata": {
        "colab": {
          "base_uri": "https://localhost:8080/"
        },
        "id": "a3l8h8wKMCVT",
        "outputId": "9b204fb0-d7c5-4aed-8107-42f0a860619f"
      },
      "execution_count": 9,
      "outputs": [
        {
          "output_type": "execute_result",
          "data": {
            "text/plain": [
              "5"
            ]
          },
          "metadata": {},
          "execution_count": 9
        }
      ]
    },
    {
      "cell_type": "code",
      "source": [
        "#number of records in dataframe\n",
        "df.count()"
      ],
      "metadata": {
        "colab": {
          "base_uri": "https://localhost:8080/"
        },
        "id": "-Zukq9qEMxN6",
        "outputId": "75168a6a-dc1f-43a3-bc77-633aef133bed"
      },
      "execution_count": 10,
      "outputs": [
        {
          "output_type": "execute_result",
          "data": {
            "text/plain": [
              "33"
            ]
          },
          "metadata": {},
          "execution_count": 10
        }
      ]
    },
    {
      "cell_type": "code",
      "source": [
        "#shape of dataset\n",
        "print((df.count(),len(df.columns)))"
      ],
      "metadata": {
        "colab": {
          "base_uri": "https://localhost:8080/"
        },
        "id": "EFP7DJXGM2p3",
        "outputId": "c4285cf5-b59d-4260-fa6a-29f4a8f91625"
      },
      "execution_count": 11,
      "outputs": [
        {
          "output_type": "stream",
          "name": "stdout",
          "text": [
            "(33, 5)\n"
          ]
        }
      ]
    },
    {
      "cell_type": "code",
      "source": [
        "#printSchema\n",
        "df.printSchema()"
      ],
      "metadata": {
        "colab": {
          "base_uri": "https://localhost:8080/"
        },
        "id": "SURIs6PfM35Z",
        "outputId": "bf7f6a3a-81ed-4e59-9a8f-ee5f88d5a1bf"
      },
      "execution_count": 12,
      "outputs": [
        {
          "output_type": "stream",
          "name": "stdout",
          "text": [
            "root\n",
            " |-- ratings: integer (nullable = true)\n",
            " |-- age: integer (nullable = true)\n",
            " |-- experience: double (nullable = true)\n",
            " |-- family: integer (nullable = true)\n",
            " |-- mobile: string (nullable = true)\n",
            "\n"
          ]
        }
      ]
    },
    {
      "cell_type": "code",
      "source": [
        "#fisrt few rows of dataframe\n",
        "df.show(5)"
      ],
      "metadata": {
        "colab": {
          "base_uri": "https://localhost:8080/"
        },
        "id": "PR0TxGfGM5OY",
        "outputId": "1bf6dc59-5070-458d-e757-579322db396f"
      },
      "execution_count": 13,
      "outputs": [
        {
          "output_type": "stream",
          "name": "stdout",
          "text": [
            "+-------+---+----------+------+-------+\n",
            "|ratings|age|experience|family| mobile|\n",
            "+-------+---+----------+------+-------+\n",
            "|      3| 32|       9.0|     3|   Vivo|\n",
            "|      3| 27|      13.0|     3|  Apple|\n",
            "|      4| 22|       2.5|     0|Samsung|\n",
            "|      4| 37|      16.5|     4|  Apple|\n",
            "|      5| 27|       9.0|     1|     MI|\n",
            "+-------+---+----------+------+-------+\n",
            "only showing top 5 rows\n",
            "\n"
          ]
        }
      ]
    },
    {
      "cell_type": "code",
      "source": [
        "#select only 2 columns\n",
        "df.select('age','mobile').show(5)"
      ],
      "metadata": {
        "colab": {
          "base_uri": "https://localhost:8080/"
        },
        "id": "7b_SapIYM6zx",
        "outputId": "1787130f-65a2-40c7-cecc-91ac60c8bdf1"
      },
      "execution_count": 14,
      "outputs": [
        {
          "output_type": "stream",
          "name": "stdout",
          "text": [
            "+---+-------+\n",
            "|age| mobile|\n",
            "+---+-------+\n",
            "| 32|   Vivo|\n",
            "| 27|  Apple|\n",
            "| 22|Samsung|\n",
            "| 37|  Apple|\n",
            "| 27|     MI|\n",
            "+---+-------+\n",
            "only showing top 5 rows\n",
            "\n"
          ]
        }
      ]
    },
    {
      "cell_type": "code",
      "source": [
        "from pyspark.sql.types import StringType,DoubleType,IntegerType"
      ],
      "metadata": {
        "id": "0uyhr_sBNcrh"
      },
      "execution_count": 15,
      "outputs": []
    },
    {
      "cell_type": "code",
      "source": [
        "#with column\n",
        "df.withColumn(\"age_after_10_yrs\",(df[\"age\"]+10)).show(10,False)"
      ],
      "metadata": {
        "colab": {
          "base_uri": "https://localhost:8080/"
        },
        "id": "znWtwl-cNi5q",
        "outputId": "1c06883d-2e31-4851-d794-f5f37ad277df"
      },
      "execution_count": 16,
      "outputs": [
        {
          "output_type": "stream",
          "name": "stdout",
          "text": [
            "+-------+---+----------+------+-------+----------------+\n",
            "|ratings|age|experience|family|mobile |age_after_10_yrs|\n",
            "+-------+---+----------+------+-------+----------------+\n",
            "|3      |32 |9.0       |3     |Vivo   |42              |\n",
            "|3      |27 |13.0      |3     |Apple  |37              |\n",
            "|4      |22 |2.5       |0     |Samsung|32              |\n",
            "|4      |37 |16.5      |4     |Apple  |47              |\n",
            "|5      |27 |9.0       |1     |MI     |37              |\n",
            "|4      |27 |9.0       |0     |Oppo   |37              |\n",
            "|5      |37 |23.0      |5     |Vivo   |47              |\n",
            "|5      |37 |23.0      |5     |Samsung|47              |\n",
            "|3      |22 |2.5       |0     |Apple  |32              |\n",
            "|3      |27 |6.0       |0     |MI     |37              |\n",
            "+-------+---+----------+------+-------+----------------+\n",
            "only showing top 10 rows\n",
            "\n"
          ]
        }
      ]
    },
    {
      "cell_type": "code",
      "source": [
        "df.withColumn('age_double',df['age'].cast(DoubleType())).show(10,False)"
      ],
      "metadata": {
        "colab": {
          "base_uri": "https://localhost:8080/"
        },
        "id": "PxTPasCpNnti",
        "outputId": "3db89224-ad63-4af8-8c68-5c94f7b55a3a"
      },
      "execution_count": 17,
      "outputs": [
        {
          "output_type": "stream",
          "name": "stdout",
          "text": [
            "+-------+---+----------+------+-------+----------+\n",
            "|ratings|age|experience|family|mobile |age_double|\n",
            "+-------+---+----------+------+-------+----------+\n",
            "|3      |32 |9.0       |3     |Vivo   |32.0      |\n",
            "|3      |27 |13.0      |3     |Apple  |27.0      |\n",
            "|4      |22 |2.5       |0     |Samsung|22.0      |\n",
            "|4      |37 |16.5      |4     |Apple  |37.0      |\n",
            "|5      |27 |9.0       |1     |MI     |27.0      |\n",
            "|4      |27 |9.0       |0     |Oppo   |27.0      |\n",
            "|5      |37 |23.0      |5     |Vivo   |37.0      |\n",
            "|5      |37 |23.0      |5     |Samsung|37.0      |\n",
            "|3      |22 |2.5       |0     |Apple  |22.0      |\n",
            "|3      |27 |6.0       |0     |MI     |27.0      |\n",
            "+-------+---+----------+------+-------+----------+\n",
            "only showing top 10 rows\n",
            "\n"
          ]
        }
      ]
    },
    {
      "cell_type": "code",
      "source": [
        "#with column\n",
        "df.withColumn(\"age_after_10_yrs\",(df[\"age\"]+10)).show(10,False)"
      ],
      "metadata": {
        "colab": {
          "base_uri": "https://localhost:8080/"
        },
        "id": "8h6X7Ka7NrrK",
        "outputId": "33811329-aa61-4223-f403-582b8ea51e91"
      },
      "execution_count": 18,
      "outputs": [
        {
          "output_type": "stream",
          "name": "stdout",
          "text": [
            "+-------+---+----------+------+-------+----------------+\n",
            "|ratings|age|experience|family|mobile |age_after_10_yrs|\n",
            "+-------+---+----------+------+-------+----------------+\n",
            "|3      |32 |9.0       |3     |Vivo   |42              |\n",
            "|3      |27 |13.0      |3     |Apple  |37              |\n",
            "|4      |22 |2.5       |0     |Samsung|32              |\n",
            "|4      |37 |16.5      |4     |Apple  |47              |\n",
            "|5      |27 |9.0       |1     |MI     |37              |\n",
            "|4      |27 |9.0       |0     |Oppo   |37              |\n",
            "|5      |37 |23.0      |5     |Vivo   |47              |\n",
            "|5      |37 |23.0      |5     |Samsung|47              |\n",
            "|3      |22 |2.5       |0     |Apple  |32              |\n",
            "|3      |27 |6.0       |0     |MI     |37              |\n",
            "+-------+---+----------+------+-------+----------------+\n",
            "only showing top 10 rows\n",
            "\n"
          ]
        }
      ]
    },
    {
      "cell_type": "code",
      "source": [
        "#filter the records\n",
        "df.filter(df['mobile']=='Vivo').show()"
      ],
      "metadata": {
        "colab": {
          "base_uri": "https://localhost:8080/"
        },
        "id": "1yjkImj3Nu0h",
        "outputId": "ab003499-4210-4410-b45e-832d0836b735"
      },
      "execution_count": 19,
      "outputs": [
        {
          "output_type": "stream",
          "name": "stdout",
          "text": [
            "+-------+---+----------+------+------+\n",
            "|ratings|age|experience|family|mobile|\n",
            "+-------+---+----------+------+------+\n",
            "|      3| 32|       9.0|     3|  Vivo|\n",
            "|      5| 37|      23.0|     5|  Vivo|\n",
            "|      4| 37|       6.0|     0|  Vivo|\n",
            "|      5| 37|      13.0|     1|  Vivo|\n",
            "|      4| 37|       6.0|     0|  Vivo|\n",
            "+-------+---+----------+------+------+\n",
            "\n"
          ]
        }
      ]
    },
    {
      "cell_type": "code",
      "source": [
        "#filter the records\n",
        "df.filter(df['mobile']=='Vivo').select('age','ratings','mobile').show()"
      ],
      "metadata": {
        "colab": {
          "base_uri": "https://localhost:8080/"
        },
        "id": "uOER82-VNx1B",
        "outputId": "34054231-8331-42dc-cd32-a80f582a489f"
      },
      "execution_count": 20,
      "outputs": [
        {
          "output_type": "stream",
          "name": "stdout",
          "text": [
            "+---+-------+------+\n",
            "|age|ratings|mobile|\n",
            "+---+-------+------+\n",
            "| 32|      3|  Vivo|\n",
            "| 37|      5|  Vivo|\n",
            "| 37|      4|  Vivo|\n",
            "| 37|      5|  Vivo|\n",
            "| 37|      4|  Vivo|\n",
            "+---+-------+------+\n",
            "\n"
          ]
        }
      ]
    },
    {
      "cell_type": "code",
      "source": [
        "#filter the multiple conditions\n",
        "df.filter(df['mobile']=='Vivo').filter(df['experience'] >10).show()"
      ],
      "metadata": {
        "colab": {
          "base_uri": "https://localhost:8080/"
        },
        "id": "saRanm_UNy2M",
        "outputId": "a879a9ae-2773-4fdc-978a-3a8f11d5ecd6"
      },
      "execution_count": 21,
      "outputs": [
        {
          "output_type": "stream",
          "name": "stdout",
          "text": [
            "+-------+---+----------+------+------+\n",
            "|ratings|age|experience|family|mobile|\n",
            "+-------+---+----------+------+------+\n",
            "|      5| 37|      23.0|     5|  Vivo|\n",
            "|      5| 37|      13.0|     1|  Vivo|\n",
            "+-------+---+----------+------+------+\n",
            "\n"
          ]
        }
      ]
    },
    {
      "cell_type": "code",
      "source": [
        "#filter the multiple conditions\n",
        "df.filter((df['mobile']=='Vivo')&(df['experience'] >10)).show()"
      ],
      "metadata": {
        "colab": {
          "base_uri": "https://localhost:8080/"
        },
        "id": "oApuZ1ygN0X7",
        "outputId": "6058d8fa-a459-4571-9a5c-b06c1bc739bc"
      },
      "execution_count": 22,
      "outputs": [
        {
          "output_type": "stream",
          "name": "stdout",
          "text": [
            "+-------+---+----------+------+------+\n",
            "|ratings|age|experience|family|mobile|\n",
            "+-------+---+----------+------+------+\n",
            "|      5| 37|      23.0|     5|  Vivo|\n",
            "|      5| 37|      13.0|     1|  Vivo|\n",
            "+-------+---+----------+------+------+\n",
            "\n"
          ]
        }
      ]
    },
    {
      "cell_type": "code",
      "source": [
        "#Distinct Values in a column\n",
        "df.select('mobile').distinct().show()"
      ],
      "metadata": {
        "colab": {
          "base_uri": "https://localhost:8080/"
        },
        "id": "5ukZxtfRN33a",
        "outputId": "010e8579-db42-4820-d976-e23c253083c6"
      },
      "execution_count": 23,
      "outputs": [
        {
          "output_type": "stream",
          "name": "stdout",
          "text": [
            "+-------+\n",
            "| mobile|\n",
            "+-------+\n",
            "|     MI|\n",
            "|   Oppo|\n",
            "|Samsung|\n",
            "|   Vivo|\n",
            "|  Apple|\n",
            "+-------+\n",
            "\n"
          ]
        }
      ]
    },
    {
      "cell_type": "code",
      "source": [
        "#distinct value count\n",
        "df.select('mobile').distinct().count()"
      ],
      "metadata": {
        "colab": {
          "base_uri": "https://localhost:8080/"
        },
        "id": "-IRyaltwN5ip",
        "outputId": "b9894c9b-485f-4c42-88d6-8e85c940e3e4"
      },
      "execution_count": 24,
      "outputs": [
        {
          "output_type": "execute_result",
          "data": {
            "text/plain": [
              "5"
            ]
          },
          "metadata": {},
          "execution_count": 24
        }
      ]
    },
    {
      "cell_type": "code",
      "source": [
        "df.groupBy('mobile').count().show(5,False)"
      ],
      "metadata": {
        "colab": {
          "base_uri": "https://localhost:8080/"
        },
        "id": "5uxAuX5SN6x4",
        "outputId": "4c565f7b-c663-4403-d623-e7bd89f23589"
      },
      "execution_count": 25,
      "outputs": [
        {
          "output_type": "stream",
          "name": "stdout",
          "text": [
            "+-------+-----+\n",
            "|mobile |count|\n",
            "+-------+-----+\n",
            "|MI     |8    |\n",
            "|Oppo   |7    |\n",
            "|Samsung|6    |\n",
            "|Vivo   |5    |\n",
            "|Apple  |7    |\n",
            "+-------+-----+\n",
            "\n"
          ]
        }
      ]
    },
    {
      "cell_type": "code",
      "source": [
        "# Value counts\n",
        "df.groupBy('mobile').count().orderBy('count',ascending=False).show(5,False)"
      ],
      "metadata": {
        "colab": {
          "base_uri": "https://localhost:8080/"
        },
        "id": "q6TjS1WcN8YG",
        "outputId": "6f2a16bf-9fe5-4610-ed28-28fe0a332c39"
      },
      "execution_count": 26,
      "outputs": [
        {
          "output_type": "stream",
          "name": "stdout",
          "text": [
            "+-------+-----+\n",
            "|mobile |count|\n",
            "+-------+-----+\n",
            "|MI     |8    |\n",
            "|Oppo   |7    |\n",
            "|Apple  |7    |\n",
            "|Samsung|6    |\n",
            "|Vivo   |5    |\n",
            "+-------+-----+\n",
            "\n"
          ]
        }
      ]
    },
    {
      "cell_type": "code",
      "source": [
        "# Value counts\n",
        "df.groupBy('mobile').mean().show(5,False)"
      ],
      "metadata": {
        "colab": {
          "base_uri": "https://localhost:8080/"
        },
        "id": "pfWHoi2GN96V",
        "outputId": "66f9a626-145f-48f4-aba4-de7cecd16201"
      },
      "execution_count": 27,
      "outputs": [
        {
          "output_type": "stream",
          "name": "stdout",
          "text": [
            "+-------+------------------+------------------+------------------+------------------+\n",
            "|mobile |avg(ratings)      |avg(age)          |avg(experience)   |avg(family)       |\n",
            "+-------+------------------+------------------+------------------+------------------+\n",
            "|MI     |3.5               |30.125            |10.1875           |1.375             |\n",
            "|Oppo   |2.857142857142857 |28.428571428571427|10.357142857142858|1.4285714285714286|\n",
            "|Samsung|4.166666666666667 |28.666666666666668|8.666666666666666 |1.8333333333333333|\n",
            "|Vivo   |4.2               |36.0              |11.4              |1.8               |\n",
            "|Apple  |3.4285714285714284|30.571428571428573|11.0              |2.7142857142857144|\n",
            "+-------+------------------+------------------+------------------+------------------+\n",
            "\n"
          ]
        }
      ]
    },
    {
      "cell_type": "code",
      "source": [
        "df.groupBy('mobile').sum().show(5,False)"
      ],
      "metadata": {
        "colab": {
          "base_uri": "https://localhost:8080/"
        },
        "id": "wIripvZ5OCPW",
        "outputId": "d31efb2d-5c3b-456f-ffb6-5a33d5bb1f66"
      },
      "execution_count": 28,
      "outputs": [
        {
          "output_type": "stream",
          "name": "stdout",
          "text": [
            "+-------+------------+--------+---------------+-----------+\n",
            "|mobile |sum(ratings)|sum(age)|sum(experience)|sum(family)|\n",
            "+-------+------------+--------+---------------+-----------+\n",
            "|MI     |28          |241     |81.5           |11         |\n",
            "|Oppo   |20          |199     |72.5           |10         |\n",
            "|Samsung|25          |172     |52.0           |11         |\n",
            "|Vivo   |21          |180     |57.0           |9          |\n",
            "|Apple  |24          |214     |77.0           |19         |\n",
            "+-------+------------+--------+---------------+-----------+\n",
            "\n"
          ]
        }
      ]
    },
    {
      "cell_type": "code",
      "source": [
        "# Value counts\n",
        "df.groupBy('mobile').max().show(5,False)"
      ],
      "metadata": {
        "colab": {
          "base_uri": "https://localhost:8080/"
        },
        "id": "dHSTny8oOGnm",
        "outputId": "dbf495de-083d-42a7-8f70-790cf057d403"
      },
      "execution_count": 29,
      "outputs": [
        {
          "output_type": "stream",
          "name": "stdout",
          "text": [
            "+-------+------------+--------+---------------+-----------+\n",
            "|mobile |max(ratings)|max(age)|max(experience)|max(family)|\n",
            "+-------+------------+--------+---------------+-----------+\n",
            "|MI     |5           |42      |23.0           |5          |\n",
            "|Oppo   |4           |42      |23.0           |2          |\n",
            "|Samsung|5           |37      |23.0           |5          |\n",
            "|Vivo   |5           |37      |23.0           |5          |\n",
            "|Apple  |4           |37      |16.5           |5          |\n",
            "+-------+------------+--------+---------------+-----------+\n",
            "\n"
          ]
        }
      ]
    },
    {
      "cell_type": "code",
      "source": [
        "# Value counts\n",
        "df.groupBy('mobile').min().show(5,False)"
      ],
      "metadata": {
        "colab": {
          "base_uri": "https://localhost:8080/"
        },
        "id": "SgfpwwJFOH7-",
        "outputId": "ea9bf68a-9277-40ea-af4d-0c699eca68ed"
      },
      "execution_count": 30,
      "outputs": [
        {
          "output_type": "stream",
          "name": "stdout",
          "text": [
            "+-------+------------+--------+---------------+-----------+\n",
            "|mobile |min(ratings)|min(age)|min(experience)|min(family)|\n",
            "+-------+------------+--------+---------------+-----------+\n",
            "|MI     |1           |27      |2.5            |0          |\n",
            "|Oppo   |2           |22      |6.0            |0          |\n",
            "|Samsung|2           |22      |2.5            |0          |\n",
            "|Vivo   |3           |32      |6.0            |0          |\n",
            "|Apple  |3           |22      |2.5            |0          |\n",
            "+-------+------------+--------+---------------+-----------+\n",
            "\n"
          ]
        }
      ]
    },
    {
      "cell_type": "code",
      "source": [
        "#Aggregation\n",
        "df.groupBy('mobile').agg({'experience':'sum'}).show(5,False)"
      ],
      "metadata": {
        "colab": {
          "base_uri": "https://localhost:8080/"
        },
        "id": "1lMi2Y_yOJLX",
        "outputId": "e5f710d3-ff74-4d1f-b3a6-45ab315302aa"
      },
      "execution_count": 31,
      "outputs": [
        {
          "output_type": "stream",
          "name": "stdout",
          "text": [
            "+-------+---------------+\n",
            "|mobile |sum(experience)|\n",
            "+-------+---------------+\n",
            "|MI     |81.5           |\n",
            "|Oppo   |72.5           |\n",
            "|Samsung|52.0           |\n",
            "|Vivo   |57.0           |\n",
            "|Apple  |77.0           |\n",
            "+-------+---------------+\n",
            "\n"
          ]
        }
      ]
    },
    {
      "cell_type": "code",
      "source": [
        "# UDF\n",
        "from pyspark.sql.functions import udf"
      ],
      "metadata": {
        "id": "ftzahrErOKip"
      },
      "execution_count": 32,
      "outputs": []
    },
    {
      "cell_type": "code",
      "source": [
        "#normal function\n",
        "def price_range(brand):\n",
        "    if brand in ['Samsung','Apple']:\n",
        "        return 'High Price'\n",
        "    elif brand =='MI':\n",
        "        return 'Mid Price'\n",
        "    else:\n",
        "        return 'Low Price'"
      ],
      "metadata": {
        "id": "AGLIDkXLOL6X"
      },
      "execution_count": 33,
      "outputs": []
    },
    {
      "cell_type": "code",
      "source": [
        "#create udf using python function\n",
        "brand_udf=udf(price_range,StringType())\n",
        "#apply udf on dataframe\n",
        "df.withColumn('price_range',brand_udf(df['mobile'])).show(10,False)"
      ],
      "metadata": {
        "colab": {
          "base_uri": "https://localhost:8080/"
        },
        "id": "cDcBME-1ON44",
        "outputId": "dc63aba7-8e7f-47ad-a7bf-46ead1acc0d1"
      },
      "execution_count": 34,
      "outputs": [
        {
          "output_type": "stream",
          "name": "stdout",
          "text": [
            "+-------+---+----------+------+-------+-----------+\n",
            "|ratings|age|experience|family|mobile |price_range|\n",
            "+-------+---+----------+------+-------+-----------+\n",
            "|3      |32 |9.0       |3     |Vivo   |Low Price  |\n",
            "|3      |27 |13.0      |3     |Apple  |High Price |\n",
            "|4      |22 |2.5       |0     |Samsung|High Price |\n",
            "|4      |37 |16.5      |4     |Apple  |High Price |\n",
            "|5      |27 |9.0       |1     |MI     |Mid Price  |\n",
            "|4      |27 |9.0       |0     |Oppo   |Low Price  |\n",
            "|5      |37 |23.0      |5     |Vivo   |Low Price  |\n",
            "|5      |37 |23.0      |5     |Samsung|High Price |\n",
            "|3      |22 |2.5       |0     |Apple  |High Price |\n",
            "|3      |27 |6.0       |0     |MI     |Mid Price  |\n",
            "+-------+---+----------+------+-------+-----------+\n",
            "only showing top 10 rows\n",
            "\n"
          ]
        }
      ]
    },
    {
      "cell_type": "code",
      "source": [
        "#using lambda function\n",
        "age_udf = udf(lambda age: \"young\" if age <= 30 else \"senior\", StringType())\n",
        "#apply udf on dataframe\n",
        "df.withColumn(\"age_group\", age_udf(df.age)).show(10,False)"
      ],
      "metadata": {
        "colab": {
          "base_uri": "https://localhost:8080/"
        },
        "id": "GREENoQKOPyz",
        "outputId": "2c6bf74b-a91b-40e8-a8dc-dd8bd9f793c2"
      },
      "execution_count": 35,
      "outputs": [
        {
          "output_type": "stream",
          "name": "stdout",
          "text": [
            "+-------+---+----------+------+-------+---------+\n",
            "|ratings|age|experience|family|mobile |age_group|\n",
            "+-------+---+----------+------+-------+---------+\n",
            "|3      |32 |9.0       |3     |Vivo   |senior   |\n",
            "|3      |27 |13.0      |3     |Apple  |young    |\n",
            "|4      |22 |2.5       |0     |Samsung|young    |\n",
            "|4      |37 |16.5      |4     |Apple  |senior   |\n",
            "|5      |27 |9.0       |1     |MI     |young    |\n",
            "|4      |27 |9.0       |0     |Oppo   |young    |\n",
            "|5      |37 |23.0      |5     |Vivo   |senior   |\n",
            "|5      |37 |23.0      |5     |Samsung|senior   |\n",
            "|3      |22 |2.5       |0     |Apple  |young    |\n",
            "|3      |27 |6.0       |0     |MI     |young    |\n",
            "+-------+---+----------+------+-------+---------+\n",
            "only showing top 10 rows\n",
            "\n"
          ]
        }
      ]
    },
    {
      "cell_type": "code",
      "source": [
        "#pandas udf\n",
        "from pyspark.sql.functions import pandas_udf, PandasUDFType"
      ],
      "metadata": {
        "id": "aBiU8ULqOQfA"
      },
      "execution_count": 36,
      "outputs": []
    },
    {
      "cell_type": "code",
      "source": [
        "#create python function\n",
        "def remaining_yrs(age):\n",
        "    yrs_left=100-age\n",
        "\n",
        "    return yrs_left"
      ],
      "metadata": {
        "id": "Enk0WubhOS3S"
      },
      "execution_count": 37,
      "outputs": []
    },
    {
      "cell_type": "code",
      "source": [
        "#create udf using python function\n",
        "length_udf = pandas_udf(remaining_yrs, IntegerType())\n",
        "#apply pandas udf on dataframe\n",
        "df.withColumn(\"yrs_left\", length_udf(df['age'])).show(10,False)"
      ],
      "metadata": {
        "colab": {
          "base_uri": "https://localhost:8080/"
        },
        "id": "Sycba_RLOUeo",
        "outputId": "5a4cde55-e0b5-42d5-d491-e07eb61b46f0"
      },
      "execution_count": 38,
      "outputs": [
        {
          "output_type": "stream",
          "name": "stdout",
          "text": [
            "+-------+---+----------+------+-------+--------+\n",
            "|ratings|age|experience|family|mobile |yrs_left|\n",
            "+-------+---+----------+------+-------+--------+\n",
            "|3      |32 |9.0       |3     |Vivo   |68      |\n",
            "|3      |27 |13.0      |3     |Apple  |73      |\n",
            "|4      |22 |2.5       |0     |Samsung|78      |\n",
            "|4      |37 |16.5      |4     |Apple  |63      |\n",
            "|5      |27 |9.0       |1     |MI     |73      |\n",
            "|4      |27 |9.0       |0     |Oppo   |73      |\n",
            "|5      |37 |23.0      |5     |Vivo   |63      |\n",
            "|5      |37 |23.0      |5     |Samsung|63      |\n",
            "|3      |22 |2.5       |0     |Apple  |78      |\n",
            "|3      |27 |6.0       |0     |MI     |73      |\n",
            "+-------+---+----------+------+-------+--------+\n",
            "only showing top 10 rows\n",
            "\n"
          ]
        }
      ]
    },
    {
      "cell_type": "code",
      "source": [
        "#udf using two columns\n",
        "def prod(rating,exp):\n",
        "    x=rating*exp\n",
        "    return x"
      ],
      "metadata": {
        "id": "h9l-4bWHOVdu"
      },
      "execution_count": 39,
      "outputs": []
    },
    {
      "cell_type": "code",
      "source": [
        "#create udf using python function\n",
        "prod_udf = pandas_udf(prod, DoubleType())\n",
        "#apply pandas udf on multiple columns of dataframe\n",
        "df.withColumn(\"product\", prod_udf(df['ratings'],df['experience'])).show(10,False)"
      ],
      "metadata": {
        "colab": {
          "base_uri": "https://localhost:8080/"
        },
        "id": "dKm9K96oOYVf",
        "outputId": "e69b9c69-bb90-4c41-b5c9-b71640dd8af1"
      },
      "execution_count": 40,
      "outputs": [
        {
          "output_type": "stream",
          "name": "stdout",
          "text": [
            "+-------+---+----------+------+-------+-------+\n",
            "|ratings|age|experience|family|mobile |product|\n",
            "+-------+---+----------+------+-------+-------+\n",
            "|3      |32 |9.0       |3     |Vivo   |27.0   |\n",
            "|3      |27 |13.0      |3     |Apple  |39.0   |\n",
            "|4      |22 |2.5       |0     |Samsung|10.0   |\n",
            "|4      |37 |16.5      |4     |Apple  |66.0   |\n",
            "|5      |27 |9.0       |1     |MI     |45.0   |\n",
            "|4      |27 |9.0       |0     |Oppo   |36.0   |\n",
            "|5      |37 |23.0      |5     |Vivo   |115.0  |\n",
            "|5      |37 |23.0      |5     |Samsung|115.0  |\n",
            "|3      |22 |2.5       |0     |Apple  |7.5    |\n",
            "|3      |27 |6.0       |0     |MI     |18.0   |\n",
            "+-------+---+----------+------+-------+-------+\n",
            "only showing top 10 rows\n",
            "\n"
          ]
        }
      ]
    },
    {
      "cell_type": "code",
      "source": [
        "#duplicate values\n",
        "df.count()"
      ],
      "metadata": {
        "colab": {
          "base_uri": "https://localhost:8080/"
        },
        "id": "Fd7w4EseOZkJ",
        "outputId": "3fa23cdf-2f64-4197-ce43-ff59ee457d28"
      },
      "execution_count": 41,
      "outputs": [
        {
          "output_type": "execute_result",
          "data": {
            "text/plain": [
              "33"
            ]
          },
          "metadata": {},
          "execution_count": 41
        }
      ]
    },
    {
      "cell_type": "code",
      "source": [
        "#drop duplicate values\n",
        "df=df.dropDuplicates()"
      ],
      "metadata": {
        "id": "D5FX6T7MObNe"
      },
      "execution_count": 42,
      "outputs": []
    },
    {
      "cell_type": "code",
      "source": [
        "#validate new count\n",
        "df.count()"
      ],
      "metadata": {
        "colab": {
          "base_uri": "https://localhost:8080/"
        },
        "id": "n1SrMseqOcMf",
        "outputId": "8dfb3001-6a1c-47da-d598-2689f1c2fb22"
      },
      "execution_count": 43,
      "outputs": [
        {
          "output_type": "execute_result",
          "data": {
            "text/plain": [
              "26"
            ]
          },
          "metadata": {},
          "execution_count": 43
        }
      ]
    },
    {
      "cell_type": "code",
      "source": [
        "#drop column of dataframe\n",
        "df_new=df.drop('mobile')"
      ],
      "metadata": {
        "id": "M0PbyolxOde_"
      },
      "execution_count": 44,
      "outputs": []
    },
    {
      "cell_type": "code",
      "source": [
        "df_new.show(10)"
      ],
      "metadata": {
        "colab": {
          "base_uri": "https://localhost:8080/"
        },
        "id": "cJBnt7QNOelQ",
        "outputId": "fed028d5-c40b-451d-d52f-7aa57461ff0c"
      },
      "execution_count": 45,
      "outputs": [
        {
          "output_type": "stream",
          "name": "stdout",
          "text": [
            "+-------+---+----------+------+\n",
            "|ratings|age|experience|family|\n",
            "+-------+---+----------+------+\n",
            "|      3| 32|       9.0|     3|\n",
            "|      4| 22|       2.5|     0|\n",
            "|      5| 27|       6.0|     0|\n",
            "|      4| 22|       6.0|     1|\n",
            "|      3| 27|       6.0|     0|\n",
            "|      2| 32|      16.5|     2|\n",
            "|      4| 27|       9.0|     0|\n",
            "|      2| 27|       9.0|     2|\n",
            "|      3| 37|      16.5|     5|\n",
            "|      4| 27|       6.0|     1|\n",
            "+-------+---+----------+------+\n",
            "only showing top 10 rows\n",
            "\n"
          ]
        }
      ]
    },
    {
      "cell_type": "code",
      "source": [
        "# saving file (csv)"
      ],
      "metadata": {
        "id": "3L6PQj6qOf7O"
      },
      "execution_count": 46,
      "outputs": []
    },
    {
      "cell_type": "code",
      "source": [
        "parquet_path ='gdrive/MyDrive/Reto7/sample_data.csv'"
      ],
      "metadata": {
        "id": "fkQh62-AOwf8"
      },
      "execution_count": 51,
      "outputs": []
    },
    {
      "cell_type": "code",
      "source": [
        "from google.colab import drive\n",
        "drive.mount('/content/gdrive')"
      ],
      "metadata": {
        "colab": {
          "base_uri": "https://localhost:8080/"
        },
        "id": "13IZFPCtO8WG",
        "outputId": "0b3aa23a-80ab-4c95-b9d1-768d6f2afbdc"
      },
      "execution_count": 52,
      "outputs": [
        {
          "output_type": "stream",
          "name": "stdout",
          "text": [
            "Drive already mounted at /content/gdrive; to attempt to forcibly remount, call drive.mount(\"/content/gdrive\", force_remount=True).\n"
          ]
        }
      ]
    },
    {
      "cell_type": "code",
      "source": [
        "parquet_path = '/content/gdrive/MyDrive/Reto7/df_parquet'"
      ],
      "metadata": {
        "id": "YswTr8g6PCHO"
      },
      "execution_count": 55,
      "outputs": []
    },
    {
      "cell_type": "code",
      "source": [
        "df.write.parquet(parquet_path)"
      ],
      "metadata": {
        "id": "JpCv45mqQLBF"
      },
      "execution_count": 56,
      "outputs": []
    }
  ]
}